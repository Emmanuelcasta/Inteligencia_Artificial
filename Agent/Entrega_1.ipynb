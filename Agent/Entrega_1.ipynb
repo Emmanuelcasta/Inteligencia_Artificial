{
 "cells": [
  {
   "cell_type": "markdown",
   "id": "653c88de",
   "metadata": {},
   "source": [
    "**TALLER**"
   ]
  },
  {
   "cell_type": "markdown",
   "id": "305fdb72",
   "metadata": {},
   "source": [
    "**Problema elegido: 8-Puzzle.**\n",
    "\n",
    "El 8-puzzle es un rompecabezas con un tablero de 3x3, donde hay 8 piezas numeradas del 1 al 8 y un espacio vacío (representado por el 0). El objetivo es reorganizar las piezas para que lleguen a una configuración final específica, generalmente:"
   ]
  },
  {
   "cell_type": "markdown",
   "id": "fa23c0d7",
   "metadata": {},
   "source": [
    "1 2 3\n",
    "\n",
    "4 5 6\n",
    "\n",
    "7 8 0\n"
   ]
  },
  {
   "cell_type": "markdown",
   "id": "a2eb7f27",
   "metadata": {},
   "source": [
    "El agente debe encontrar el camino desde un estado inicial hasta el objetivo moviendo las piezas adyacentes al espacio vacío en las direcciones posibles (arriba, abajo, izquierda, derecha)."
   ]
  },
  {
   "cell_type": "markdown",
   "id": "80210837",
   "metadata": {},
   "source": [
    "***Algoritmo elegido: A* (A-star).***"
   ]
  },
  {
   "cell_type": "markdown",
   "id": "7c454ad5",
   "metadata": {},
   "source": [
    "***Justificación para la elección de A*:***\n",
    "\n",
    "Completitud: A* es completo, es decir, siempre encontrará una solución si existe, ya que explora todos los nodos posibles, pero lo hace de manera informada gracias a la heurística.\n",
    "\n",
    "Optimalidad: A* garantiza que la solución encontrada es la óptima (la más corta) si la heurística utilizada es admisible (no sobreestima el costo real).\n",
    "\n",
    "Complejidad en memoria: A* tiene una complejidad de memoria de O(b^d), donde b es el factor de ramificación (número de movimientos posibles) y d es la profundidad de la solución. En el peor de los casos, puede ser costoso en memoria, pero es más eficiente que los algoritmos de búsqueda ciega como BFS.\n",
    "\n",
    "Complejidad temporal: La complejidad temporal de A* es también O(b^d), aunque en la práctica, la heurística ayuda a reducir significativamente la cantidad de nodos explorados, lo que lo hace más eficiente que BFS o DFS.\n",
    "\n"
   ]
  },
  {
   "cell_type": "markdown",
   "id": "cd2b0699",
   "metadata": {},
   "source": [
    "***Comparación con otros algoritmos:***\n",
    "\n",
    "BFS: Aunque garantiza encontrar la solución más corta, es más costoso en términos de memoria y tiempo porque no tiene una heurística que guíe la búsqueda.\n",
    "\n",
    "DFS: No es completo ni óptimo, ya que podría quedarse atascado en ramas profundas sin encontrar la solución.\n",
    "\n",
    "Greedy Best-First Search: No garantiza una solución óptima, ya que solo utiliza la heurística sin tener en cuenta el costo acumulado."
   ]
  },
  {
   "cell_type": "markdown",
   "id": "c5d37cb6",
   "metadata": {},
   "source": [
    "***Definición del espacio de estados***\n",
    "\n",
    "Estados (States): Cada configuración del tablero puede representarse como una tupla de 9 elementos, donde los números del 1 al 8 corresponden a las piezas y el 0 al espacio vacío. Un estado es una combinación de posiciones de las piezas.\n",
    "\n",
    "**Ejemplo de estado**\n",
    "\n",
    "(1, 2, 3, 4, 5, 6, 7, 8, 0)  # Estado objetivo\n"
   ]
  },
  {
   "cell_type": "markdown",
   "id": "ea8f5252",
   "metadata": {},
   "source": [
    "**Acciones (Actions)**: Las acciones consisten en mover el espacio vacío (0) hacia una de las posiciones adyacentes: arriba, abajo, izquierda o derecha. Dependiendo de la posición del espacio vacío, algunas acciones no son válidas (por ejemplo, no puedes moverlo hacia la izquierda si ya está en la primera columna).\n",
    "\n",
    "**Resultado (Modelo de transición)**: Cada acción genera un nuevo estado, que es el resultado de mover el espacio vacío."
   ]
  },
  {
   "cell_type": "markdown",
   "id": "a449119d",
   "metadata": {},
   "source": [
    "*Si el espacio vacío está en la posición (2,1) (última fila, segunda columna),y lo movemos hacia la izquierda, el nuevo estado será:*\n",
    "(1, 2, 3, 4, 5, 6, 7, 0, 8)"
   ]
  },
  {
   "cell_type": "markdown",
   "id": "1ff03e1e",
   "metadata": {},
   "source": [
    "**Costo de acción (Action cost)**: El costo de cada acción es constante (1 movimiento). No hay costos adicionales por mover las piezas, ya que solo nos interesa el número de movimientos para llegar al objetivo."
   ]
  },
  {
   "cell_type": "markdown",
   "id": "282d45fd",
   "metadata": {},
   "source": [
    "**Diseño de la heurística**\n",
    "\n",
    "**Heurística utilizada: Número de piezas fuera de lugar.**\n",
    "\n",
    "Esta heurística cuenta cuántas piezas del tablero están fuera de lugar, es decir, cuántas no están en su posición correcta.\n",
    "\n",
    "Es admisible (no sobreestima el costo real) y consistente (satisface la propiedad de consistencia que garantiza que el costo de mover a un vecino nunca es mayor que el costo estimado por la heurística).\n",
    "\n",
    "Alternativamente, se podría usar la distancia Manhattan, que es la suma de las distancias absolutas entre las posiciones actuales y las posiciones correctas de cada pieza."
   ]
  },
  {
   "cell_type": "markdown",
   "id": "7b1d942d",
   "metadata": {},
   "source": [
    "# Codigo desarrollado"
   ]
  },
  {
   "cell_type": "code",
   "execution_count": 6,
   "id": "5e4cf120",
   "metadata": {},
   "outputs": [
    {
     "name": "stdout",
     "output_type": "stream",
     "text": [
      "Camino encontrado: ['up', 'left', 'left', 'down', 'right', 'right', 'up', 'left', 'down', 'down', 'right', 'up', 'left', 'down', 'left', 'up', 'right', 'right', 'up', 'left', 'left', 'down', 'right', 'right', 'down']\n",
      "Número de nodos explorados: 26\n",
      "Estados visitados:\n",
      "(5, 6, 3, 2, 7, 0, 8, 4, 1)\n",
      "(5, 6, 0, 2, 7, 3, 8, 4, 1)\n",
      "(5, 0, 6, 2, 7, 3, 8, 4, 1)\n",
      "(0, 5, 6, 2, 7, 3, 8, 4, 1)\n",
      "(2, 5, 6, 0, 7, 3, 8, 4, 1)\n",
      "(2, 5, 6, 7, 0, 3, 8, 4, 1)\n",
      "(2, 5, 6, 7, 3, 0, 8, 4, 1)\n",
      "(2, 5, 0, 7, 3, 6, 8, 4, 1)\n",
      "(2, 0, 5, 7, 3, 6, 8, 4, 1)\n",
      "(2, 3, 5, 7, 0, 6, 8, 4, 1)\n",
      "(2, 3, 5, 7, 4, 6, 8, 0, 1)\n",
      "(2, 3, 5, 7, 4, 6, 8, 1, 0)\n",
      "(2, 3, 5, 7, 4, 0, 8, 1, 6)\n",
      "(2, 3, 5, 7, 0, 4, 8, 1, 6)\n",
      "(2, 3, 5, 7, 1, 4, 8, 0, 6)\n",
      "(2, 3, 5, 7, 1, 4, 0, 8, 6)\n",
      "(2, 3, 5, 0, 1, 4, 7, 8, 6)\n",
      "(2, 3, 5, 1, 0, 4, 7, 8, 6)\n",
      "(2, 3, 5, 1, 4, 0, 7, 8, 6)\n",
      "(2, 3, 0, 1, 4, 5, 7, 8, 6)\n",
      "(2, 0, 3, 1, 4, 5, 7, 8, 6)\n",
      "(0, 2, 3, 1, 4, 5, 7, 8, 6)\n",
      "(1, 2, 3, 0, 4, 5, 7, 8, 6)\n",
      "(1, 2, 3)\n",
      "(4, 0, 5)\n",
      "(7, 8, 6)\n",
      "\n",
      "(1, 2, 3)\n",
      "(4, 5, 0)\n",
      "(7, 8, 6)\n",
      "\n",
      "(1, 2, 3)\n",
      "(4, 5, 6)\n",
      "(7, 8, 0)\n",
      "\n",
      "Estado final alcanzado:\n",
      "(1, 2, 3)\n",
      "(4, 5, 6)\n",
      "(7, 8, 0)\n",
      "\n"
     ]
    }
   ],
   "source": [
    "import heapq\n",
    "\n",
    "# Estado objetivo\n",
    "GOAL_STATE = (1, 2, 3, 4, 5, 6, 7, 8, 0)\n",
    "\n",
    "# Movimiento en las 4 direcciones posibles (arriba, abajo, izquierda, derecha)\n",
    "MOVES = [(-3, 'up'), (3, 'down'), (-1, 'left'), (1, 'right')]\n",
    "\n",
    "# Función de heurística: número de piezas fuera de lugar\n",
    "def misplaced_tiles(state):\n",
    "    return sum(1 for i in range(9) if state[i] != GOAL_STATE[i] and state[i] != 0)\n",
    "\n",
    "# Imprimir estado como tablero 3x3\n",
    "def print_board(state):\n",
    "    for i in range(0, 9, 3):\n",
    "        print(state[i:i+3])\n",
    "    print()\n",
    "\n",
    "# Clase que representa el problema del 8-puzzle\n",
    "class Puzzle:\n",
    "    def __init__(self, initial_state):\n",
    "        self.initial_state = initial_state\n",
    "        self.initial_blank_pos = initial_state.index(0)\n",
    "\n",
    "    @staticmethod\n",
    "    def is_solvable(state):\n",
    "        inversion_count = 0\n",
    "        tiles = [tile for tile in state if tile != 0]\n",
    "        for i in range(len(tiles)):\n",
    "            for j in range(i + 1, len(tiles)):\n",
    "                if tiles[i] > tiles[j]:\n",
    "                    inversion_count += 1\n",
    "        return inversion_count % 2 == 0\n",
    "\n",
    "    def get_neighbors(self, state):\n",
    "        neighbors = []\n",
    "        blank_pos = state.index(0)\n",
    "\n",
    "        for move, direction in MOVES:\n",
    "            new_blank_pos = blank_pos + move\n",
    "\n",
    "            if direction == 'up' and blank_pos >= 3:\n",
    "                pass\n",
    "            elif direction == 'down' and blank_pos <= 5:\n",
    "                pass\n",
    "            elif direction == 'left' and blank_pos % 3 != 0:\n",
    "                pass\n",
    "            elif direction == 'right' and blank_pos % 3 != 2:\n",
    "                pass\n",
    "            else:\n",
    "                continue\n",
    "\n",
    "            new_state = list(state)\n",
    "            new_state[blank_pos], new_state[new_blank_pos] = new_state[new_blank_pos], new_state[blank_pos]\n",
    "            neighbors.append((tuple(new_state), direction))\n",
    "        return neighbors\n",
    "\n",
    "    def a_star(self):\n",
    "        start = self.initial_state\n",
    "        frontier = []\n",
    "        heapq.heappush(frontier, (misplaced_tiles(start), 0, start, [], []))  # (f(n), g(n), estado, camino, visitados)\n",
    "        explored = set()\n",
    "\n",
    "        while frontier:\n",
    "            f, g, state, path, visited = heapq.heappop(frontier)\n",
    "\n",
    "            if state == GOAL_STATE:\n",
    "                return path, visited + [state], state\n",
    "\n",
    "            if state in explored:\n",
    "                continue\n",
    "            explored.add(state)\n",
    "\n",
    "            for neighbor, direction in self.get_neighbors(state):\n",
    "                new_path = path + [direction]\n",
    "                new_visited = visited + [state]\n",
    "                heapq.heappush(frontier, (g + 1 + misplaced_tiles(neighbor), g + 1, neighbor, new_path, new_visited))\n",
    "\n",
    "        return None, None, None  # No se encontró solución\n",
    "\n",
    "# Estado inicial (puedes cambiar este)\n",
    "#initial_state = (2, 4, 5, 6, 0, 7, 8, 3, 1)\n",
    "initial_state = (5, 6, 3, 2, 7, 0, 8, 4, 1)\n",
    "\n",
    "# Inicializar puzzle\n",
    "puzzle = Puzzle(initial_state)\n",
    "\n",
    "# Resolver el puzzle\n",
    "if puzzle.is_solvable(initial_state):\n",
    "    solution, visited_states, final_state = puzzle.a_star()\n",
    "else:\n",
    "    print(\"Este estado no es resoluble.\")\n",
    "    solution, visited_states, final_state = None, None, None\n",
    "\n",
    "# Mostrar resultados\n",
    "if solution:\n",
    "    print(f\"Camino encontrado: {solution}\")\n",
    "    print(f\"Número de nodos explorados: {len(visited_states)}\")\n",
    "    print(\"Estados visitados:\")\n",
    "    for i, state in enumerate(visited_states):\n",
    "        if i >= len(visited_states) - 3:\n",
    "            print_board(state)\n",
    "        else:\n",
    "            print(state)\n",
    "    print(\"Estado final alcanzado:\")\n",
    "    print_board(final_state)\n",
    "else:\n",
    "    print(\"No se encontró solución.\")\n"
   ]
  },
  {
   "cell_type": "markdown",
   "id": "453d025d",
   "metadata": {},
   "source": [
    "**Presentación de resultados**\n",
    "\n",
    "Al ejecutar el código, el resultado será el camino encontrado desde el estado inicial hasta el objetivo, junto con el número de nodos explorados y todos los estados intermedios visitados.\n",
    "\n",
    "**Ejemplo de salida:**\n",
    "\n",
    "Camino encontrado: ['right', 'down', 'left', 'down']\n",
    "Número de nodos explorados: 10\n",
    "Estados visitados:\n",
    "(1, 2, 3, 4, 5, 6, 7, 0, 8)\n",
    "(1, 2, 3, 4, 5, 6, 7, 8, 0)\n",
    "..."
   ]
  }
 ],
 "metadata": {
  "kernelspec": {
   "display_name": "Python 3",
   "language": "python",
   "name": "python3"
  },
  "language_info": {
   "codemirror_mode": {
    "name": "ipython",
    "version": 3
   },
   "file_extension": ".py",
   "mimetype": "text/x-python",
   "name": "python",
   "nbconvert_exporter": "python",
   "pygments_lexer": "ipython3",
   "version": "3.12.4"
  }
 },
 "nbformat": 4,
 "nbformat_minor": 5
}
